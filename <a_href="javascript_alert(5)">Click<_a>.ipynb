{
  "nbformat": 4,
  "nbformat_minor": 0,
  "metadata": {
    "colab": {
      "name": "<a href=\"javascript:alert(5)\">Click</a>",
      "provenance": [],
      "collapsed_sections": [],
      "authorship_tag": "ABX9TyNYMhQdpTsgCk0b2yYL294S",
      "include_colab_link": true
    },
    "kernelspec": {
      "name": "python3",
      "display_name": "Python 3"
    }
  },
  "cells": [
    {
      "cell_type": "markdown",
      "metadata": {
        "id": "view-in-github",
        "colab_type": "text"
      },
      "source": [
        "<a href=\"https://colab.research.google.com/github/ashketchum1410/1hackathon.grab.com/blob/master/%3Ca_href%3D%22javascript_alert(5)%22%3EClick%3C_a%3E.ipynb\" target=\"_parent\"><img src=\"https://colab.research.google.com/assets/colab-badge.svg\" alt=\"Open In Colab\"/></a>"
      ]
    },
    {
      "cell_type": "markdown",
      "metadata": {
        "id": "3AIts1Mn-gJG",
        "colab_type": "text"
      },
      "source": [
        "<a href=![alt text](https:// [link text](https://))\"javascript:alert(5)\">Click</a># New Section<a href=\"javascript://%025A[link text](`https://`)alert(5)\">Click</a>"
      ]
    },
    {
      "cell_type": "code",
      "metadata": {
        "id": "gWGx6LCd9VzV",
        "colab_type": "code",
        "outputId": "76b3f10a-3380-49c1-a7c1-ee6790ef353a",
        "colab": {
          "base_uri": "https://localhost:8080/",
          "height": 129
        }
      },
      "source": [
        "<a href=\"javascript:alert(5)\">Click</a>"
      ],
      "execution_count": 0,
      "outputs": [
        {
          "output_type": "error",
          "ename": "SyntaxError",
          "evalue": "ignored",
          "traceback": [
            "\u001b[0;36m  File \u001b[0;32m\"<ipython-input-1-3c54ae61ae8e>\"\u001b[0;36m, line \u001b[0;32m1\u001b[0m\n\u001b[0;31m    <a href=\"javascript:alert(5)\">Click</a>\u001b[0m\n\u001b[0m    ^\u001b[0m\n\u001b[0;31mSyntaxError\u001b[0m\u001b[0;31m:\u001b[0m invalid syntax\n"
          ]
        }
      ]
    }
  ]
}